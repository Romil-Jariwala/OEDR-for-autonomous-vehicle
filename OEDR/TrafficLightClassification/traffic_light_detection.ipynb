{
  "nbformat": 4,
  "nbformat_minor": 0,
  "metadata": {
    "colab": {
      "name": "traffic_light_detection.ipynb",
      "provenance": []
    },
    "kernelspec": {
      "name": "python3",
      "display_name": "Python 3"
    }
  },
  "cells": [
    {
      "cell_type": "markdown",
      "metadata": {
        "id": "JrtHP1e7AihZ",
        "colab_type": "text"
      },
      "source": [
        "# **Implementation**"
      ]
    },
    {
      "cell_type": "code",
      "metadata": {
        "id": "dN-sYwsoAoQ7",
        "colab_type": "code",
        "colab": {}
      },
      "source": [
        "import cv2 \n",
        "import random\n",
        "import numpy as np\n",
        "import matplotlib.pyplot as plt\n",
        "import matplotlib.image as mpimg "
      ],
      "execution_count": 0,
      "outputs": []
    },
    {
      "cell_type": "code",
      "metadata": {
        "id": "4V6osV2b-Tir",
        "colab_type": "code",
        "colab": {}
      },
      "source": [
        "def avg_value(rgb_image):\n",
        "    hsv = cv2.cvtColor(rgb_image, cv2.COLOR_RGB2HSV)\n",
        "    area = hsv.shape[0] * hsv.shape[1]\n",
        "    #sum up the value to know color intensity \n",
        "    sum1 = np.sum(hsv[:, :, 2])\n",
        "    #Find average color intensity of image\n",
        "    avg1 = sum1 / area\n",
        "    return int(avg1)"
      ],
      "execution_count": 0,
      "outputs": []
    },
    {
      "cell_type": "code",
      "metadata": {
        "id": "fvJ5R1IE-NfR",
        "colab_type": "code",
        "colab": {}
      },
      "source": [
        "def create_feature(rgb_image):\n",
        "    img = rgb_image.copy()\n",
        "    #Create 3 slices of image vertically.\n",
        "    upper_slice = img[0:7, :, :]\n",
        "    middle_slice = img[8:15, :, :]\n",
        "    lower_slice = img[16:24, :, :]\n",
        "    #Find avergae value of each image.\n",
        "    #To decide which traffic light might be on.\n",
        "    u1 = avg_value(upper_slice)\n",
        "    m1 = avg_value(middle_slice)\n",
        "    l1 = avg_value(lower_slice)\n",
        "    print(u1,m1,l1)\n",
        "    return u1,m1,l1"
      ],
      "execution_count": 0,
      "outputs": []
    },
    {
      "cell_type": "code",
      "metadata": {
        "id": "vzlEr7WW-JYC",
        "colab_type": "code",
        "colab": {}
      },
      "source": [
        "def estimate_label(rgb_image):\n",
        "    u1,m1,l1 = create_feature(rgb_image)\n",
        " \n",
        "    if(u1 > m1 and u1 > l1):\n",
        "        return [1,0,0]\n",
        "    elif(m1 > l1):\n",
        "        return [0,1,0]\n",
        "    else:\n",
        "        return [0,0,1]"
      ],
      "execution_count": 0,
      "outputs": []
    },
    {
      "cell_type": "code",
      "metadata": {
        "id": "rE2mxM23_clz",
        "colab_type": "code",
        "colab": {}
      },
      "source": [
        "# Standardize the input images\n",
        "# Resize each image to the desired input size: 32x32px.\n",
        "\n",
        "def standardize_input(image):\n",
        "    \n",
        "    standard_im = np.copy(image)\n",
        "    standard_im = cv2.resize(standard_im,(32,32)) #Resizing image to size (32,32)\n",
        "    rows = 4\n",
        "    cols = 6\n",
        "    i = standard_im.copy()\n",
        "    #Cropping 4 rows from both upper and lower end of image \n",
        "    i = i[rows:-rows, cols:-cols, :]\n",
        "    #Applying gaussian blur to image to remove noise\n",
        "    i = cv2.GaussianBlur(i, (3, 3), 0)\n",
        "    return i"
      ],
      "execution_count": 0,
      "outputs": []
    },
    {
      "cell_type": "markdown",
      "metadata": {
        "id": "kjerZai2ANSi",
        "colab_type": "text"
      },
      "source": [
        "# **Example**"
      ]
    },
    {
      "cell_type": "code",
      "metadata": {
        "id": "LqpzX5KEAXI8",
        "colab_type": "code",
        "colab": {}
      },
      "source": [
        "%matplotlib inline"
      ],
      "execution_count": 0,
      "outputs": []
    },
    {
      "cell_type": "code",
      "metadata": {
        "id": "n-bFiKXY-iAm",
        "colab_type": "code",
        "colab": {
          "base_uri": "https://localhost:8080/",
          "height": 52
        },
        "outputId": "1d88d935-b15c-444b-ad83-dff18dd28fb8"
      },
      "source": [
        "estimate_label(standardize_input(plt.imread(\"download.jpg\")))"
      ],
      "execution_count": 15,
      "outputs": [
        {
          "output_type": "stream",
          "text": [
            "155 121 127\n"
          ],
          "name": "stdout"
        },
        {
          "output_type": "execute_result",
          "data": {
            "text/plain": [
              "[1, 0, 0]"
            ]
          },
          "metadata": {
            "tags": []
          },
          "execution_count": 15
        }
      ]
    },
    {
      "cell_type": "markdown",
      "metadata": {
        "id": "66KZ0SxJAcbZ",
        "colab_type": "text"
      },
      "source": [
        "# **Test**"
      ]
    },
    {
      "cell_type": "code",
      "metadata": {
        "id": "AVa6KfwTAfXy",
        "colab_type": "code",
        "colab": {}
      },
      "source": [
        ""
      ],
      "execution_count": 0,
      "outputs": []
    }
  ]
}